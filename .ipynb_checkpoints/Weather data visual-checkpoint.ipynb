{
 "cells": [
  {
   "cell_type": "code",
   "execution_count": null,
   "metadata": {
    "collapsed": true
   },
   "outputs": [],
   "source": [
    "#Using matplotlib to create a visual of a line graph of the record high and record low temperatures by day of the year over the period 2005-2014. \n",
    "#The area between the record high and record low temperatures for each day has been shaded.\n",
    "#We Overlay a scatter of the 2015 data for any points (highs and lows) for which the ten year record (2005-2014) record high or record low was broken in 2015.\n",
    "#We Watch out for leap days (i.e. February 29th), it is reasonable to remove these points from the dataset for the purpose of this visualization.\n",
    "#We Make the visual nice and also Consider issues such as legends, labels, and chart junk."
   ]
  },
  {
   "cell_type": "code",
   "execution_count": null,
   "metadata": {
    "collapsed": true
   },
   "outputs": [],
   "source": [
    "%matplotlib notebook\n",
    "import matplotlib.pyplot as plt\n",
    "import mplleaflet\n",
    "import pandas as pd\n",
    "import numpy as np\n",
    "import re"
   ]
  },
  {
   "cell_type": "code",
   "execution_count": null,
   "metadata": {
    "collapsed": true
   },
   "outputs": [],
   "source": [
    "data = pd.read_csv(\"data/C2A2_data/BinnedCsvs_d400/fb441e62df2d58994928907a91895ec62c2c42e6cd075c2700843b89.csv\")"
   ]
  },
  {
   "cell_type": "code",
   "execution_count": null,
   "metadata": {
    "collapsed": true
   },
   "outputs": [],
   "source": [
    "data[\"Date\"] = pd.to_datetime(data[\"Date\"])\n",
    "data[((data[\"Date\"].dt.day == 29) & (data[\"Date\"].dt.month == 2))][\"Date\"].dt.year.unique()"
   ]
  },
  {
   "cell_type": "code",
   "execution_count": null,
   "metadata": {
    "collapsed": true
   },
   "outputs": [],
   "source": [
    "#Watching out for leap days (i.e. February 29th), we are removing these points from the dataset for the purpose of this visualization.\n",
    "data = data[~((data[\"Date\"].dt.day == 29) & (data[\"Date\"].dt.month == 2))]\n",
    "data.head()"
   ]
  },
  {
   "cell_type": "code",
   "execution_count": null,
   "metadata": {
    "collapsed": true
   },
   "outputs": [],
   "source": [
    "data[\"dayofyear\"] = data[\"Date\"].dt.dayofyear\n",
    "index = data[(data[\"dayofyear\"]>60)&((data[\"Date\"].dt.year==2008)|(data[\"Date\"].dt.year==2012))].index \n",
    "len(index)"
   ]
  },
  {
   "cell_type": "code",
   "execution_count": null,
   "metadata": {
    "collapsed": true
   },
   "outputs": [],
   "source": [
    "for i in index:\n",
    "    data.loc[i,\"dayofyear\"] -= 1"
   ]
  },
  {
   "cell_type": "code",
   "execution_count": null,
   "metadata": {
    "collapsed": true
   },
   "outputs": [],
   "source": [
    "dayofyear = np.sort(data[\"dayofyear\"].unique())\n",
    "dayofyear"
   ]
  },
  {
   "cell_type": "code",
   "execution_count": null,
   "metadata": {
    "collapsed": true
   },
   "outputs": [],
   "source": [
    "TMAX = data[(data[\"Element\"]==\"TMAX\")&(data[\"Date\"].dt.year>=2005)&(data[\"Date\"].dt.year<=2014)]\n",
    "TMIN = data[(data[\"Element\"]==\"TMIN\")&(data[\"Date\"].dt.year>=2005)&(data[\"Date\"].dt.year<=2014)]\n",
    "TMAX15 = data[(data[\"Element\"]==\"TMAX\")&(data[\"Date\"].dt.year==2015)]\n",
    "TMIN15 = data[(data[\"Element\"]==\"TMIN\")&(data[\"Date\"].dt.year==2015)]"
   ]
  },
  {
   "cell_type": "code",
   "execution_count": null,
   "metadata": {
    "collapsed": true
   },
   "outputs": [],
   "source": [
    "max_temp = []\n",
    "min_temp = []\n",
    "max_temp15 = []\n",
    "min_temp15 = []\n",
    "\n",
    "for day in dayofyear:\n",
    "    max_temp.append(TMAX[TMAX[\"Date\"].dt.dayofyear == day][\"Data_Value\"].max())\n",
    "    min_temp.append(TMIN[TMIN[\"Date\"].dt.dayofyear == day][\"Data_Value\"].min())\n",
    "    max_temp15.append(TMAX15[TMAX15[\"Date\"].dt.dayofyear == day][\"Data_Value\"].max())\n",
    "    min_temp15.append(TMIN15[TMIN15[\"Date\"].dt.dayofyear == day][\"Data_Value\"].min())"
   ]
  },
  {
   "cell_type": "code",
   "execution_count": null,
   "metadata": {
    "collapsed": true
   },
   "outputs": [],
   "source": [
    "plt.plot(dayofyear,max_temp,c=\"orange\",lw=1.0)\n",
    "plt.plot(dayofyear,min_temp,c=\"blue\",lw=1.0)"
   ]
  },
  {
   "cell_type": "code",
   "execution_count": null,
   "metadata": {
    "collapsed": true
   },
   "outputs": [],
   "source": [
    "extremes=[]\n",
    "ex_index = []\n",
    "for day in dayofyear:\n",
    "    if(max_temp15[day-1]>max_temp[day-1]):\n",
    "        extremes.append(max_temp15[day-1])\n",
    "        ex_index.append(day)\n",
    "    elif(min_temp15[day-1]<min_temp[day-1]):\n",
    "        extremes.append(min_temp15[day-1])\n",
    "        ex_index.append(day)\n",
    "np.array(extremes)\n",
    "np.array(ex_index)"
   ]
  },
  {
   "cell_type": "code",
   "execution_count": null,
   "metadata": {
    "collapsed": true
   },
   "outputs": [],
   "source": [
    "plt.scatter(ex_index,extremes,c=\"red\",s=15)\n",
    "\n",
    "plt.xlabel(\"Day Of Year\")\n",
    "plt.ylabel(\"Temperature(Tenths of degree celcius)\")\n",
    "plt.title(\"Max and Min Temperatures\")\n",
    "plt.legend([\"Record High (2005-2014)\",\"Record Low (2002-2014)\",\"Record High/Low(2015)\"],frameon=False)\n",
    "plt.fill_between(dayofyear,max_temp,min_temp,alpha=0.9)"
   ]
  },
  {
   "cell_type": "code",
   "execution_count": null,
   "metadata": {
    "collapsed": true
   },
   "outputs": [],
   "source": [
    "ax = plt.gca()\n",
    "\n",
    "for spine in ax.spines.values():\n",
    "    spine.set_visible(False)\n",
    "    \n",
    "plt.tick_params(bottom=False,left=False)"
   ]
  }
 ],
 "metadata": {
  "kernelspec": {
   "display_name": "Python 3",
   "language": "python",
   "name": "python3"
  },
  "language_info": {
   "codemirror_mode": {
    "name": "ipython",
    "version": 3
   },
   "file_extension": ".py",
   "mimetype": "text/x-python",
   "name": "python",
   "nbconvert_exporter": "python",
   "pygments_lexer": "ipython3",
   "version": "3.6.2"
  }
 },
 "nbformat": 4,
 "nbformat_minor": 1
}
