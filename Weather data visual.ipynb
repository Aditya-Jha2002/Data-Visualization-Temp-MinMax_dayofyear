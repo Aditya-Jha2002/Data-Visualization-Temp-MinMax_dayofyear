{
 "cells": [
  {
   "cell_type": "code",
   "execution_count": 1,
   "metadata": {},
   "outputs": [],
   "source": [
    "#Using matplotlib to create a visual of a line graph of the record high and record low temperatures by day of the year over the period 2005-2014. \n",
    "#The area between the record high and record low temperatures for each day has been shaded.\n",
    "#We Overlay a scatter of the 2015 data for any points (highs and lows) for which the ten year record (2005-2014) record high or record low was broken in 2015.\n",
    "#We Watch out for leap days (i.e. February 29th), it is reasonable to remove these points from the dataset for the purpose of this visualization.\n",
    "#We Make the visual nice and also Consider issues such as legends, labels, and chart junk."
   ]
  },
  {
   "cell_type": "code",
   "execution_count": 42,
   "metadata": {},
   "outputs": [],
   "source": [
    "%matplotlib inline\n",
    "import matplotlib.pyplot as plt\n",
    "import matplotlib as mpl\n",
    "import pandas as pd\n",
    "import numpy as np\n",
    "import re"
   ]
  },
  {
   "cell_type": "code",
   "execution_count": 33,
   "metadata": {},
   "outputs": [],
   "source": [
    "data = pd.read_csv(\"fb441e62df2d58994928907a91895ec62c2c42e6cd075c2700843b89.csv\")"
   ]
  },
  {
   "cell_type": "code",
   "execution_count": 34,
   "metadata": {},
   "outputs": [
    {
     "data": {
      "text/plain": [
       "array([2012, 2008])"
      ]
     },
     "execution_count": 34,
     "metadata": {},
     "output_type": "execute_result"
    }
   ],
   "source": [
    "data[\"Date\"] = pd.to_datetime(data[\"Date\"])\n",
    "data[((data[\"Date\"].dt.day == 29) & (data[\"Date\"].dt.month == 2))][\"Date\"].dt.year.unique()"
   ]
  },
  {
   "cell_type": "code",
   "execution_count": 35,
   "metadata": {},
   "outputs": [
    {
     "data": {
      "text/html": [
       "<div>\n",
       "<style scoped>\n",
       "    .dataframe tbody tr th:only-of-type {\n",
       "        vertical-align: middle;\n",
       "    }\n",
       "\n",
       "    .dataframe tbody tr th {\n",
       "        vertical-align: top;\n",
       "    }\n",
       "\n",
       "    .dataframe thead th {\n",
       "        text-align: right;\n",
       "    }\n",
       "</style>\n",
       "<table border=\"1\" class=\"dataframe\">\n",
       "  <thead>\n",
       "    <tr style=\"text-align: right;\">\n",
       "      <th></th>\n",
       "      <th>ID</th>\n",
       "      <th>Date</th>\n",
       "      <th>Element</th>\n",
       "      <th>Data_Value</th>\n",
       "    </tr>\n",
       "  </thead>\n",
       "  <tbody>\n",
       "    <tr>\n",
       "      <th>0</th>\n",
       "      <td>USW00094889</td>\n",
       "      <td>2014-11-12</td>\n",
       "      <td>TMAX</td>\n",
       "      <td>22</td>\n",
       "    </tr>\n",
       "    <tr>\n",
       "      <th>1</th>\n",
       "      <td>USC00208972</td>\n",
       "      <td>2009-04-29</td>\n",
       "      <td>TMIN</td>\n",
       "      <td>56</td>\n",
       "    </tr>\n",
       "    <tr>\n",
       "      <th>2</th>\n",
       "      <td>USC00200032</td>\n",
       "      <td>2008-05-26</td>\n",
       "      <td>TMAX</td>\n",
       "      <td>278</td>\n",
       "    </tr>\n",
       "    <tr>\n",
       "      <th>3</th>\n",
       "      <td>USC00205563</td>\n",
       "      <td>2005-11-11</td>\n",
       "      <td>TMAX</td>\n",
       "      <td>139</td>\n",
       "    </tr>\n",
       "    <tr>\n",
       "      <th>4</th>\n",
       "      <td>USC00200230</td>\n",
       "      <td>2014-02-27</td>\n",
       "      <td>TMAX</td>\n",
       "      <td>-106</td>\n",
       "    </tr>\n",
       "  </tbody>\n",
       "</table>\n",
       "</div>"
      ],
      "text/plain": [
       "            ID       Date Element  Data_Value\n",
       "0  USW00094889 2014-11-12    TMAX          22\n",
       "1  USC00208972 2009-04-29    TMIN          56\n",
       "2  USC00200032 2008-05-26    TMAX         278\n",
       "3  USC00205563 2005-11-11    TMAX         139\n",
       "4  USC00200230 2014-02-27    TMAX        -106"
      ]
     },
     "execution_count": 35,
     "metadata": {},
     "output_type": "execute_result"
    }
   ],
   "source": [
    "#Watching out for leap days (i.e. February 29th), we are removing these points from the dataset for the purpose of this visualization.\n",
    "data = data[~((data[\"Date\"].dt.day == 29) & (data[\"Date\"].dt.month == 2))]\n",
    "data.head()"
   ]
  },
  {
   "cell_type": "code",
   "execution_count": 36,
   "metadata": {},
   "outputs": [
    {
     "data": {
      "text/plain": [
       "26042"
      ]
     },
     "execution_count": 36,
     "metadata": {},
     "output_type": "execute_result"
    }
   ],
   "source": [
    "data[\"dayofyear\"] = data[\"Date\"].dt.dayofyear\n",
    "index = data[(data[\"dayofyear\"]>60)&((data[\"Date\"].dt.year==2008)|(data[\"Date\"].dt.year==2012))].index \n",
    "len(index)"
   ]
  },
  {
   "cell_type": "code",
   "execution_count": 37,
   "metadata": {},
   "outputs": [],
   "source": [
    "for i in index:\n",
    "    data.loc[i,\"dayofyear\"] -= 1"
   ]
  },
  {
   "cell_type": "code",
   "execution_count": 38,
   "metadata": {},
   "outputs": [
    {
     "data": {
      "text/plain": [
       "array([  1,   2,   3,   4,   5,   6,   7,   8,   9,  10,  11,  12,  13,\n",
       "        14,  15,  16,  17,  18,  19,  20,  21,  22,  23,  24,  25,  26,\n",
       "        27,  28,  29,  30,  31,  32,  33,  34,  35,  36,  37,  38,  39,\n",
       "        40,  41,  42,  43,  44,  45,  46,  47,  48,  49,  50,  51,  52,\n",
       "        53,  54,  55,  56,  57,  58,  59,  60,  61,  62,  63,  64,  65,\n",
       "        66,  67,  68,  69,  70,  71,  72,  73,  74,  75,  76,  77,  78,\n",
       "        79,  80,  81,  82,  83,  84,  85,  86,  87,  88,  89,  90,  91,\n",
       "        92,  93,  94,  95,  96,  97,  98,  99, 100, 101, 102, 103, 104,\n",
       "       105, 106, 107, 108, 109, 110, 111, 112, 113, 114, 115, 116, 117,\n",
       "       118, 119, 120, 121, 122, 123, 124, 125, 126, 127, 128, 129, 130,\n",
       "       131, 132, 133, 134, 135, 136, 137, 138, 139, 140, 141, 142, 143,\n",
       "       144, 145, 146, 147, 148, 149, 150, 151, 152, 153, 154, 155, 156,\n",
       "       157, 158, 159, 160, 161, 162, 163, 164, 165, 166, 167, 168, 169,\n",
       "       170, 171, 172, 173, 174, 175, 176, 177, 178, 179, 180, 181, 182,\n",
       "       183, 184, 185, 186, 187, 188, 189, 190, 191, 192, 193, 194, 195,\n",
       "       196, 197, 198, 199, 200, 201, 202, 203, 204, 205, 206, 207, 208,\n",
       "       209, 210, 211, 212, 213, 214, 215, 216, 217, 218, 219, 220, 221,\n",
       "       222, 223, 224, 225, 226, 227, 228, 229, 230, 231, 232, 233, 234,\n",
       "       235, 236, 237, 238, 239, 240, 241, 242, 243, 244, 245, 246, 247,\n",
       "       248, 249, 250, 251, 252, 253, 254, 255, 256, 257, 258, 259, 260,\n",
       "       261, 262, 263, 264, 265, 266, 267, 268, 269, 270, 271, 272, 273,\n",
       "       274, 275, 276, 277, 278, 279, 280, 281, 282, 283, 284, 285, 286,\n",
       "       287, 288, 289, 290, 291, 292, 293, 294, 295, 296, 297, 298, 299,\n",
       "       300, 301, 302, 303, 304, 305, 306, 307, 308, 309, 310, 311, 312,\n",
       "       313, 314, 315, 316, 317, 318, 319, 320, 321, 322, 323, 324, 325,\n",
       "       326, 327, 328, 329, 330, 331, 332, 333, 334, 335, 336, 337, 338,\n",
       "       339, 340, 341, 342, 343, 344, 345, 346, 347, 348, 349, 350, 351,\n",
       "       352, 353, 354, 355, 356, 357, 358, 359, 360, 361, 362, 363, 364,\n",
       "       365])"
      ]
     },
     "execution_count": 38,
     "metadata": {},
     "output_type": "execute_result"
    }
   ],
   "source": [
    "dayofyear = np.sort(data[\"dayofyear\"].unique())\n",
    "dayofyear"
   ]
  },
  {
   "cell_type": "code",
   "execution_count": 39,
   "metadata": {},
   "outputs": [],
   "source": [
    "TMAX = data[(data[\"Element\"]==\"TMAX\")&(data[\"Date\"].dt.year>=2005)&(data[\"Date\"].dt.year<=2014)]\n",
    "TMIN = data[(data[\"Element\"]==\"TMIN\")&(data[\"Date\"].dt.year>=2005)&(data[\"Date\"].dt.year<=2014)]\n",
    "TMAX15 = data[(data[\"Element\"]==\"TMAX\")&(data[\"Date\"].dt.year==2015)]\n",
    "TMIN15 = data[(data[\"Element\"]==\"TMIN\")&(data[\"Date\"].dt.year==2015)]"
   ]
  },
  {
   "cell_type": "code",
   "execution_count": 40,
   "metadata": {},
   "outputs": [],
   "source": [
    "max_temp = []\n",
    "min_temp = []\n",
    "max_temp15 = []\n",
    "min_temp15 = []\n",
    "\n",
    "for day in dayofyear:\n",
    "    max_temp.append(TMAX[TMAX[\"Date\"].dt.dayofyear == day][\"Data_Value\"].max())\n",
    "    min_temp.append(TMIN[TMIN[\"Date\"].dt.dayofyear == day][\"Data_Value\"].min())\n",
    "    max_temp15.append(TMAX15[TMAX15[\"Date\"].dt.dayofyear == day][\"Data_Value\"].max())\n",
    "    min_temp15.append(TMIN15[TMIN15[\"Date\"].dt.dayofyear == day][\"Data_Value\"].min())"
   ]
  },
  {
   "cell_type": "code",
   "execution_count": 28,
   "metadata": {},
   "outputs": [
    {
     "data": {
      "text/plain": [
       "array([  5,  11,  34,  40,  45,  46,  47,  48,  50,  51,  52,  54,  55,\n",
       "        56,  57,  58,  59,  64,  65,  66,  87,  88,  89, 107, 114, 115,\n",
       "       127, 128, 131, 138, 153, 184, 191, 208, 210, 240, 250, 259, 260,\n",
       "       261, 271, 272, 290, 291, 292, 293, 294, 306, 307, 308, 309, 322,\n",
       "       341, 342, 343, 344, 345, 346, 347, 348, 349, 350, 357, 358, 359,\n",
       "       360])"
      ]
     },
     "execution_count": 28,
     "metadata": {},
     "output_type": "execute_result"
    }
   ],
   "source": [
    "extremes=[]\n",
    "ex_index = []\n",
    "for day in dayofyear:\n",
    "    if(max_temp15[day-1]>max_temp[day-1]):\n",
    "        extremes.append(max_temp15[day-1])\n",
    "        ex_index.append(day)\n",
    "    elif(min_temp15[day-1]<min_temp[day-1]):\n",
    "        extremes.append(min_temp15[day-1])\n",
    "        ex_index.append(day)\n",
    "np.array(extremes)\n",
    "np.array(ex_index)"
   ]
  },
  {
   "cell_type": "code",
   "execution_count": 45,
   "metadata": {},
   "outputs": [
    {
     "data": {
      "image/png": "[encoded data removed]",
      "text/plain": [
       "<Figure size 432x288 with 1 Axes>"
      ]
     },
     "metadata": {
      "needs_background": "light"
     },
     "output_type": "display_data"
    }
   ],
   "source": [
    "plt.figure()\n",
    "\n",
    "plt.plot(dayofyear,max_temp,c=\"orange\",lw=1.0)\n",
    "plt.plot(dayofyear,min_temp,c=\"blue\",lw=1.0)\n",
    "\n",
    "plt.scatter(ex_index,extremes,c=\"red\",s=15)\n",
    "\n",
    "plt.xlabel(\"Day Of Year\")\n",
    "plt.ylabel(\"Temperature(Tenths of degree celcius)\")\n",
    "plt.title(\"Max and Min Temperatures\")\n",
    "plt.legend([\"Record High (2005-2014)\",\"Record Low (2002-2014)\",\"Record High/Low(2015)\"],frameon=False)\n",
    "plt.fill_between(dayofyear,max_temp,min_temp,alpha=0.9)\n",
    "\n",
    "ax = plt.gca()\n",
    "\n",
    "for spine in ax.spines.values():\n",
    "    spine.set_visible(False)\n",
    "    \n",
    "plt.tick_params(bottom=False,left=False)"
   ]
  }
 ],
 "metadata": {
  "kernelspec": {
   "display_name": "Python 3",
   "language": "python",
   "name": "python3"
  },
  "language_info": {
   "codemirror_mode": {
    "name": "ipython",
    "version": 3
   },
   "file_extension": ".py",
   "mimetype": "text/x-python",
   "name": "python",
   "nbconvert_exporter": "python",
   "pygments_lexer": "ipython3",
   "version": "3.8.3"
  }
 },
 "nbformat": 4,
 "nbformat_minor": 4
}
